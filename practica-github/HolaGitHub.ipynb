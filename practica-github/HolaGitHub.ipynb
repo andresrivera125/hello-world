{
  "nbformat": 4,
  "nbformat_minor": 0,
  "metadata": {
    "colab": {
      "name": "HolaGitHub.ipynb",
      "provenance": [],
      "authorship_tag": "ABX9TyP+NZ/2VL51AFMYLpK6kJZL",
      "include_colab_link": true
    },
    "kernelspec": {
      "name": "python3",
      "display_name": "Python 3"
    }
  },
  "cells": [
    {
      "cell_type": "markdown",
      "metadata": {
        "id": "view-in-github",
        "colab_type": "text"
      },
      "source": [
        "<a href=\"https://colab.research.google.com/github/andresrivera125/hello-world/blob/main/practica-github/HolaGitHub.ipynb\" target=\"_parent\"><img src=\"https://colab.research.google.com/assets/colab-badge.svg\" alt=\"Open In Colab\"/></a>"
      ]
    },
    {
      "cell_type": "code",
      "metadata": {
        "colab": {
          "base_uri": "https://localhost:8080/"
        },
        "id": "pVlifTmXVhdd",
        "outputId": "a810b0b1-a629-448e-e6f0-00366dcf9651"
      },
      "source": [
        "list = [1, 2, 3, 4, 5, 6]\n",
        "\n",
        "for element in list:\n",
        "  print(element)\n"
      ],
      "execution_count": 2,
      "outputs": [
        {
          "output_type": "stream",
          "text": [
            "1\n",
            "2\n",
            "3\n",
            "4\n",
            "5\n",
            "6\n"
          ],
          "name": "stdout"
        }
      ]
    },
    {
      "cell_type": "markdown",
      "metadata": {
        "id": "4_7du4qBVlC-"
      },
      "source": [
        "# Hola mundo en markup\n",
        "\n",
        "## Esto es una subsección"
      ]
    }
  ]
}